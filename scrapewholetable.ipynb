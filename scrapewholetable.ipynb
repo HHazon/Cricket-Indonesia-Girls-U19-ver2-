{
 "cells": [
  {
   "cell_type": "code",
   "execution_count": 2,
   "id": "52a9b3d5",
   "metadata": {},
   "outputs": [],
   "source": [
    "import pandas as pd\n",
    "import requests\n",
    "from bs4 import BeautifulSoup as bs\n",
    "import csv"
   ]
  },
  {
   "cell_type": "code",
   "execution_count": 14,
   "id": "e3e97413",
   "metadata": {},
   "outputs": [
    {
     "data": {
      "text/plain": [
       "[0]"
      ]
     },
     "execution_count": 14,
     "metadata": {},
     "output_type": "execute_result"
    }
   ],
   "source": [
    "Overall = pd.read_html('https://www.espncricinfo.com/series/icc-women-s-under-19-t20-world-cup-2022-23-1336137/indonesia-women-under-19s-vs-zimbabwe-women-under-19s-playoff-match-1336180/full-scorecard')\n",
    "[0]"
   ]
  },
  {
   "cell_type": "code",
   "execution_count": 15,
   "id": "405bdeb0",
   "metadata": {},
   "outputs": [],
   "source": [
    "of1 = pd.concat(Overall)\n",
    "with open('batting7.csv','w',newline=\"\") as output:\n",
    "    of1.to_csv(path_or_buf=output)"
   ]
  },
  {
   "cell_type": "code",
   "execution_count": null,
   "id": "a673f9b9",
   "metadata": {},
   "outputs": [],
   "source": []
  }
 ],
 "metadata": {
  "kernelspec": {
   "display_name": "Python 3 (ipykernel)",
   "language": "python",
   "name": "python3"
  },
  "language_info": {
   "codemirror_mode": {
    "name": "ipython",
    "version": 3
   },
   "file_extension": ".py",
   "mimetype": "text/x-python",
   "name": "python",
   "nbconvert_exporter": "python",
   "pygments_lexer": "ipython3",
   "version": "3.9.12"
  }
 },
 "nbformat": 4,
 "nbformat_minor": 5
}
